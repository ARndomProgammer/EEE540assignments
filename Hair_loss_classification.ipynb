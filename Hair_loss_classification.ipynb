{
 "cells": [
  {
   "cell_type": "code",
   "execution_count": 1,
   "metadata": {},
   "outputs": [],
   "source": [
    "import tensorflow as tf\n",
    "from sklearn.datasets import load_iris\n",
    "from sklearn.model_selection import train_test_split\n",
    "from sklearn.metrics import accuracy_score, confusion_matrix\n",
    "import pandas as pd"
   ]
  },
  {
   "cell_type": "code",
   "execution_count": 2,
   "metadata": {},
   "outputs": [
    {
     "name": "stdout",
     "output_type": "stream",
     "text": [
      "   total_protein  total_keratine  hair_texture  vitamin  manganese  iron  \\\n",
      "0            312             122            14      249         87    55   \n",
      "1             52             227             3      425        387     1   \n",
      "2            172             197            11      142        199    91   \n",
      "3            256             334            19      358        122     3   \n",
      "4            329             185            58      227        329   321   \n",
      "\n",
      "   calcium  body_water_content  stress_level  liver_data  hair_fall  \n",
      "0      333                  44            41         368          4  \n",
      "1      182                  26            65          41          1  \n",
      "2      414                  32            54          92          4  \n",
      "3       35                  48            45          65          2  \n",
      "4      345                  23            92         346          4  \n"
     ]
    }
   ],
   "source": [
    "# Load the dataset\n",
    "df = pd.read_csv('hair_loss.csv')\n",
    "print(df.head())"
   ]
  },
  {
   "cell_type": "code",
   "execution_count": 3,
   "metadata": {},
   "outputs": [
    {
     "name": "stdout",
     "output_type": "stream",
     "text": [
      "<class 'pandas.core.frame.DataFrame'>\n",
      "RangeIndex: 100000 entries, 0 to 99999\n",
      "Data columns (total 11 columns):\n",
      " #   Column              Non-Null Count   Dtype\n",
      "---  ------              --------------   -----\n",
      " 0   total_protein       100000 non-null  int64\n",
      " 1   total_keratine      100000 non-null  int64\n",
      " 2   hair_texture        100000 non-null  int64\n",
      " 3   vitamin             100000 non-null  int64\n",
      " 4   manganese           100000 non-null  int64\n",
      " 5   iron                100000 non-null  int64\n",
      " 6   calcium             100000 non-null  int64\n",
      " 7   body_water_content  100000 non-null  int64\n",
      " 8   stress_level        100000 non-null  int64\n",
      " 9   liver_data          100000 non-null  int64\n",
      " 10  hair_fall           100000 non-null  int64\n",
      "dtypes: int64(11)\n",
      "memory usage: 8.4 MB\n"
     ]
    }
   ],
   "source": [
    "df.info()"
   ]
  },
  {
   "cell_type": "code",
   "execution_count": 4,
   "metadata": {},
   "outputs": [
    {
     "data": {
      "text/plain": [
       "total_protein         0\n",
       "total_keratine        0\n",
       "hair_texture          0\n",
       "vitamin               0\n",
       "manganese             0\n",
       "iron                  0\n",
       "calcium               0\n",
       "body_water_content    0\n",
       "stress_level          0\n",
       "liver_data            0\n",
       "hair_fall             0\n",
       "dtype: int64"
      ]
     },
     "execution_count": 4,
     "metadata": {},
     "output_type": "execute_result"
    }
   ],
   "source": [
    "df.isnull().sum()"
   ]
  },
  {
   "cell_type": "code",
   "execution_count": 5,
   "metadata": {},
   "outputs": [],
   "source": [
    "df_drop = df.drop([], axis=1)"
   ]
  },
  {
   "cell_type": "code",
   "execution_count": 6,
   "metadata": {},
   "outputs": [],
   "source": [
    "df_new = df_drop.dropna()"
   ]
  },
  {
   "cell_type": "code",
   "execution_count": 7,
   "metadata": {
    "scrolled": true
   },
   "outputs": [
    {
     "name": "stdout",
     "output_type": "stream",
     "text": [
      "<class 'pandas.core.frame.DataFrame'>\n",
      "RangeIndex: 100000 entries, 0 to 99999\n",
      "Data columns (total 11 columns):\n",
      " #   Column              Non-Null Count   Dtype\n",
      "---  ------              --------------   -----\n",
      " 0   total_protein       100000 non-null  int64\n",
      " 1   total_keratine      100000 non-null  int64\n",
      " 2   hair_texture        100000 non-null  int64\n",
      " 3   vitamin             100000 non-null  int64\n",
      " 4   manganese           100000 non-null  int64\n",
      " 5   iron                100000 non-null  int64\n",
      " 6   calcium             100000 non-null  int64\n",
      " 7   body_water_content  100000 non-null  int64\n",
      " 8   stress_level        100000 non-null  int64\n",
      " 9   liver_data          100000 non-null  int64\n",
      " 10  hair_fall           100000 non-null  int64\n",
      "dtypes: int64(11)\n",
      "memory usage: 8.4 MB\n"
     ]
    }
   ],
   "source": [
    "df_new.info()"
   ]
  },
  {
   "cell_type": "code",
   "execution_count": 8,
   "metadata": {},
   "outputs": [],
   "source": [
    "X = df_new.drop('hair_fall', axis=1).values\n",
    "y = df_new['hair_fall'].values"
   ]
  },
  {
   "cell_type": "code",
   "execution_count": 9,
   "metadata": {},
   "outputs": [],
   "source": [
    "# Split the dataset into training and testing sets\n",
    "X_train, X_test, y_train, y_test = train_test_split(X, y, test_size=0.2, random_state=42)"
   ]
  },
  {
   "cell_type": "code",
   "execution_count": 10,
   "metadata": {},
   "outputs": [],
   "source": [
    "# Define the model using TensorFlow and Keras\n",
    "model = tf.keras.Sequential([\n",
    "    tf.keras.layers.Dense(1, activation='sigmoid', input_shape=(10,))\n",
    "])"
   ]
  },
  {
   "cell_type": "code",
   "execution_count": 11,
   "metadata": {},
   "outputs": [],
   "source": [
    "# Compile the model\n",
    "model.compile(optimizer='rmsprop',\n",
    "              loss='binary_crossentropy',\n",
    "              metrics=['accuracy'])"
   ]
  },
  {
   "cell_type": "code",
   "execution_count": 12,
   "metadata": {},
   "outputs": [
    {
     "name": "stdout",
     "output_type": "stream",
     "text": [
      "Epoch 1/10\n",
      "8000/8000 [==============================] - 6s 730us/step - loss: -13972.2334 - accuracy: 0.1665\n",
      "Epoch 2/10\n",
      "8000/8000 [==============================] - 6s 757us/step - loss: -40568.5469 - accuracy: 0.1665\n",
      "Epoch 3/10\n",
      "8000/8000 [==============================] - 6s 788us/step - loss: -67181.9297 - accuracy: 0.1665\n",
      "Epoch 4/10\n",
      "8000/8000 [==============================] - 6s 749us/step - loss: -93808.7734 - accuracy: 0.1665\n",
      "Epoch 5/10\n",
      "8000/8000 [==============================] - 6s 709us/step - loss: -120395.5859 - accuracy: 0.1665\n",
      "Epoch 6/10\n",
      "8000/8000 [==============================] - 6s 705us/step - loss: -146989.0938 - accuracy: 0.1665\n",
      "Epoch 7/10\n",
      "8000/8000 [==============================] - 6s 760us/step - loss: -173570.9375 - accuracy: 0.1665\n",
      "Epoch 8/10\n",
      "8000/8000 [==============================] - 6s 763us/step - loss: -200146.3594 - accuracy: 0.1665\n",
      "Epoch 9/10\n",
      "8000/8000 [==============================] - 6s 718us/step - loss: -226779.1406 - accuracy: 0.1665\n",
      "Epoch 10/10\n",
      "8000/8000 [==============================] - 6s 704us/step - loss: -253385.0312 - accuracy: 0.1665\n",
      "625/625 [==============================] - 1s 803us/step - loss: -267080.3125 - accuracy: 0.1658\n",
      "Accuracy: 0.16584999859333038\n"
     ]
    }
   ],
   "source": [
    "# Train the model\n",
    "model.fit(X_train, y_train, epochs=10, batch_size=10, verbose=1)\n",
    "\n",
    "# Evaluate the model\n",
    "loss, accuracy = model.evaluate(X_test, y_test)\n",
    "print(\"Accuracy:\", accuracy)"
   ]
  },
  {
   "cell_type": "code",
   "execution_count": 13,
   "metadata": {},
   "outputs": [
    {
     "name": "stdout",
     "output_type": "stream",
     "text": [
      "625/625 [==============================] - 0s 673us/step\n"
     ]
    }
   ],
   "source": [
    "# Make predictions on the test set\n",
    "y_pred = model.predict(X_test)\n",
    "y_pred = (y_pred > 0.5).astype(int)"
   ]
  },
  {
   "cell_type": "code",
   "execution_count": 14,
   "metadata": {},
   "outputs": [
    {
     "name": "stdout",
     "output_type": "stream",
     "text": [
      "Perceptron Confusion Matrix:\n",
      " [[3317    0    0    0    0]\n",
      " [6644    0    0    0    0]\n",
      " [3328    0    0    0    0]\n",
      " [3345    0    0    0    0]\n",
      " [3366    0    0    0    0]]\n"
     ]
    }
   ],
   "source": [
    "# Generate the Confusion Matrix\n",
    "print(\"Perceptron Confusion Matrix:\\n\", confusion_matrix(y_test, y_pred))"
   ]
  },
  {
   "cell_type": "code",
   "execution_count": null,
   "metadata": {},
   "outputs": [],
   "source": []
  }
 ],
 "metadata": {
  "kernelspec": {
   "display_name": "Python 3 (ipykernel)",
   "language": "python",
   "name": "python3"
  },
  "language_info": {
   "codemirror_mode": {
    "name": "ipython",
    "version": 3
   },
   "file_extension": ".py",
   "mimetype": "text/x-python",
   "name": "python",
   "nbconvert_exporter": "python",
   "pygments_lexer": "ipython3",
   "version": "3.9.18"
  }
 },
 "nbformat": 4,
 "nbformat_minor": 4
}
